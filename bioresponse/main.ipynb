{
 "cells": [
  {
   "cell_type": "code",
   "execution_count": 144,
   "metadata": {
    "collapsed": true,
    "pycharm": {
     "name": "#%%\n"
    }
   },
   "outputs": [],
   "source": [
    "import pandas as pd\n",
    "import seaborn as sns\n",
    "import numpy as np\n",
    "import matplotlib.pyplot as plt\n",
    "%matplotlib inline\n",
    "\n",
    "from sklearn.preprocessing import MinMaxScaler\n",
    "from sklearn.decomposition import PCA\n",
    "from sklearn.manifold import TSNE\n",
    "from sklearn.model_selection import cross_val_score\n",
    "from sklearn.model_selection import train_test_split\n",
    "from sklearn.model_selection import RandomizedSearchCV\n",
    "from sklearn.metrics import log_loss\n",
    "\n",
    "from lightgbm import LGBMClassifier"
   ]
  },
  {
   "cell_type": "code",
   "execution_count": 145,
   "outputs": [
    {
     "name": "stdout",
     "output_type": "stream",
     "text": [
      "   Activity        D1        D2    D3    D4        D5        D6        D7  \\\n",
      "0         1  0.000000  0.497009  0.10  0.00  0.132956  0.678031  0.273166   \n",
      "1         1  0.366667  0.606291  0.05  0.00  0.111209  0.803455  0.106105   \n",
      "2         1  0.033300  0.480124  0.00  0.00  0.209791  0.610350  0.356453   \n",
      "3         1  0.000000  0.538825  0.00  0.50  0.196344  0.724230  0.235606   \n",
      "4         0  0.100000  0.517794  0.00  0.00  0.494734  0.781422  0.154361   \n",
      "5         0  0.133333  0.771035  0.20  0.25  0.122153  0.677398  0.267224   \n",
      "6         1  0.066700  0.567401  0.10  0.00  0.116578  0.689802  0.274886   \n",
      "7         1  0.133333  0.610057  0.15  0.00  0.105176  0.759602  0.313393   \n",
      "8         1  0.000000  0.776816  0.05  0.00  0.458446  0.738631  0.246347   \n",
      "9         0  0.100000  0.768150  0.10  0.25  0.262299  0.598972  0.377065   \n",
      "\n",
      "         D8        D9  ...  D1767  D1768  D1769  D1770  D1771  D1772  D1773  \\\n",
      "0  0.585445  0.743663  ...      0      0      0      0      0      0      0   \n",
      "1  0.411754  0.836582  ...      1      1      1      1      0      1      0   \n",
      "2  0.517720  0.679051  ...      0      0      0      0      0      0      0   \n",
      "3  0.288764  0.805110  ...      0      0      0      0      0      0      0   \n",
      "4  0.303809  0.812646  ...      0      0      0      0      0      0      0   \n",
      "5  0.611112  0.701421  ...      0      0      0      0      0      0      0   \n",
      "6  0.548509  0.785429  ...      0      0      0      0      0      0      0   \n",
      "7  0.491790  0.756010  ...      0      0      1      0      1      0      0   \n",
      "8  0.067800  0.751861  ...      0      0      0      0      0      0      0   \n",
      "9  0.394514  0.673797  ...      0      0      0      0      0      0      0   \n",
      "\n",
      "   D1774  D1775  D1776  \n",
      "0      0      0      0  \n",
      "1      0      1      0  \n",
      "2      0      0      0  \n",
      "3      0      0      0  \n",
      "4      0      0      0  \n",
      "5      0      0      0  \n",
      "6      0      0      0  \n",
      "7      0      0      0  \n",
      "8      0      0      0  \n",
      "9      0      0      0  \n",
      "\n",
      "[10 rows x 1777 columns]\n"
     ]
    }
   ],
   "source": [
    "# read data\n",
    "train_data_path = \"./train.csv\"\n",
    "test_data_path = \"./test.csv\"\n",
    "\n",
    "data = pd.read_csv(train_data_path)\n",
    "print(data.head(10))"
   ],
   "metadata": {
    "collapsed": false,
    "pycharm": {
     "name": "#%%\n"
    }
   }
  },
  {
   "cell_type": "code",
   "execution_count": 146,
   "outputs": [
    {
     "name": "stdout",
     "output_type": "stream",
     "text": [
      "Missing value 0\n",
      "Column names Index(['Activity', 'D1', 'D2', 'D3', 'D4', 'D5', 'D6', 'D7', 'D8', 'D9',\n",
      "       ...\n",
      "       'D1767', 'D1768', 'D1769', 'D1770', 'D1771', 'D1772', 'D1773', 'D1774',\n",
      "       'D1775', 'D1776'],\n",
      "      dtype='object', length=1777)\n"
     ]
    }
   ],
   "source": [
    "# check missing value\n",
    "print(\"Missing value\", data.isnull().sum().sum())\n",
    "print(\"Column names\", data.columns)"
   ],
   "metadata": {
    "collapsed": false,
    "pycharm": {
     "name": "#%%\n"
    }
   }
  },
  {
   "cell_type": "code",
   "execution_count": 147,
   "outputs": [
    {
     "name": "stdout",
     "output_type": "stream",
     "text": [
      "Float column Index(['D1', 'D2', 'D3', 'D4', 'D5', 'D6', 'D7', 'D8', 'D9', 'D10',\n",
      "       ...\n",
      "       'D942', 'D943', 'D944', 'D945', 'D946', 'D947', 'D948', 'D949', 'D950',\n",
      "       'D951'],\n",
      "      dtype='object', length=942)\n",
      "Int column Index(['Activity', 'D23', 'D27', 'D28', 'D51', 'D72', 'D94', 'D170', 'D568',\n",
      "       'D858',\n",
      "       ...\n",
      "       'D1767', 'D1768', 'D1769', 'D1770', 'D1771', 'D1772', 'D1773', 'D1774',\n",
      "       'D1775', 'D1776'],\n",
      "      dtype='object', length=835)\n",
      "Object column Index([], dtype='object')\n"
     ]
    }
   ],
   "source": [
    "df_float = data.select_dtypes(include=[float])\n",
    "print(\"Float column\", df_float.columns)\n",
    "\n",
    "df_int = data.select_dtypes(include=[int])\n",
    "print(\"Int column\", df_int.columns)\n",
    "\n",
    "df_object = data.select_dtypes(include=[object])\n",
    "print(\"Object column\", df_object.columns)"
   ],
   "metadata": {
    "collapsed": false,
    "pycharm": {
     "name": "#%%\n"
    }
   }
  },
  {
   "cell_type": "code",
   "execution_count": 148,
   "outputs": [
    {
     "data": {
      "text/plain": "<Figure size 432x288 with 1 Axes>",
      "image/png": "[encoded data removed]"
     },
     "metadata": {
      "needs_background": "light"
     },
     "output_type": "display_data"
    }
   ],
   "source": [
    "g1 = sns.countplot(x=data[\"Activity\"])"
   ],
   "metadata": {
    "collapsed": false,
    "pycharm": {
     "name": "#%%\n"
    }
   }
  },
  {
   "cell_type": "code",
   "execution_count": 149,
   "outputs": [],
   "source": [
    "# find distribution of labels\n",
    "scaled_data = MinMaxScaler().fit_transform(data)\n",
    "data = pd.DataFrame(scaled_data, columns=data.columns)"
   ],
   "metadata": {
    "collapsed": false,
    "pycharm": {
     "name": "#%%\n"
    }
   }
  },
  {
   "cell_type": "code",
   "execution_count": 150,
   "outputs": [
    {
     "data": {
      "text/plain": "Text(0, 0.5, 'cumulative explained variance')"
     },
     "execution_count": 150,
     "metadata": {},
     "output_type": "execute_result"
    },
    {
     "data": {
      "text/plain": "<Figure size 432x288 with 1 Axes>",
      "image/png": "[encoded data removed]"
     },
     "metadata": {
      "needs_background": "light"
     },
     "output_type": "display_data"
    }
   ],
   "source": [
    "# Look at the cumulative explained\n",
    "pca = PCA().fit(data)\n",
    "# print(pca.explained_variance_ratio_[0:20])\n",
    "plt.plot(np.cumsum(pca.explained_variance_ratio_))\n",
    "plt.xlabel(\"number of components\")\n",
    "plt.ylabel(\"cumulative explained variance\")"
   ],
   "metadata": {
    "collapsed": false,
    "pycharm": {
     "name": "#%%\n"
    }
   }
  },
  {
   "cell_type": "code",
   "execution_count": 151,
   "outputs": [],
   "source": [
    "y = data['Activity']\n",
    "X = data.drop(columns=\"Activity\")\n",
    "\n",
    "pca = PCA(n_components=750)\n",
    "pca_X = pca.fit_transform(X)"
   ],
   "metadata": {
    "collapsed": false,
    "pycharm": {
     "name": "#%%\n"
    }
   }
  },
  {
   "cell_type": "code",
   "execution_count": 152,
   "outputs": [
    {
     "name": "stdout",
     "output_type": "stream",
     "text": [
      "[t-SNE] Computing 91 nearest neighbors...\n",
      "[t-SNE] Indexed 3751 samples in 0.004s...\n",
      "[t-SNE] Computed neighbors for 3751 samples in 0.527s...\n",
      "[t-SNE] Computed conditional probabilities for sample 1000 / 3751\n",
      "[t-SNE] Computed conditional probabilities for sample 2000 / 3751\n",
      "[t-SNE] Computed conditional probabilities for sample 3000 / 3751\n",
      "[t-SNE] Computed conditional probabilities for sample 3751 / 3751\n",
      "[t-SNE] Mean sigma: 2.770370\n",
      "[t-SNE] KL divergence after 250 iterations with early exaggeration: 73.043549\n",
      "[t-SNE] KL divergence after 1000 iterations: 0.800155\n"
     ]
    },
    {
     "data": {
      "text/plain": "<AxesSubplot:xlabel='comp1', ylabel='comp2'>"
     },
     "execution_count": 152,
     "metadata": {},
     "output_type": "execute_result"
    },
    {
     "data": {
      "text/plain": "<Figure size 432x288 with 1 Axes>",
      "image/png": "[encoded data removed]"
     },
     "metadata": {
      "needs_background": "light"
     },
     "output_type": "display_data"
    }
   ],
   "source": [
    "tsne_result = TSNE(verbose=1).fit_transform(pca_X)\n",
    "\n",
    "df_tsne = pd.DataFrame(data=tsne_result, columns=[\"comp1\", \"comp2\"])\n",
    "df_tsne[\"label\"] = y\n",
    "sns.scatterplot(x=\"comp1\", y=\"comp2\", data=df_tsne, hue='label')"
   ],
   "metadata": {
    "collapsed": false,
    "pycharm": {
     "name": "#%%\n"
    }
   }
  },
  {
   "cell_type": "code",
   "execution_count": 153,
   "outputs": [
    {
     "name": "stdout",
     "output_type": "stream",
     "text": [
      "No presence of covariate shift\n"
     ]
    }
   ],
   "source": [
    "train = pd.read_csv(train_data_path)\n",
    "test = pd.read_csv(test_data_path)\n",
    "\n",
    "training = train.drop(columns='Activity')\n",
    "training['label'] = 0\n",
    "test['label'] = 1\n",
    "combine = training.append(test)\n",
    "\n",
    "y = combine['label']\n",
    "combine.drop(columns='label', inplace=True)\n",
    "\n",
    "model = LGBMClassifier(n_estimators=50)\n",
    "drop_list = []\n",
    "for col in combine.columns:\n",
    "    scores = cross_val_score(model, pd.DataFrame(combine[col]), y, cv=2, scoring='roc_auc')\n",
    "    if np.mean(scores) > 0.7:\n",
    "        drop_list.append(col)\n",
    "        print(\"Column with covariate shift:\", col)\n",
    "\n",
    "if len(drop_list) == 0:\n",
    "    print(\"No presence of covariate shift\")"
   ],
   "metadata": {
    "collapsed": false,
    "pycharm": {
     "name": "#%%\n"
    }
   }
  },
  {
   "cell_type": "code",
   "execution_count": 154,
   "outputs": [],
   "source": [
    "data = pd.read_csv(train_data_path)\n",
    "\n",
    "X = data\n",
    "X = X.drop(columns='Activity')\n",
    "\n",
    "y = data['Activity']\n",
    "y = y.values.reshape(len(y), 1)\n",
    "\n",
    "X_train, X_test, y_train, y_test = train_test_split(X, y, test_size=0.2, random_state=32)\n",
    "\n",
    "def normalizing(x_train, x_test):\n",
    "    columns = x_train.columns\n",
    "    for c in columns:\n",
    "        scale = MinMaxScaler()\n",
    "\n",
    "        x_train_arr = x_train[c].astype(float).values.reshape(-1, 1)\n",
    "        x_test_arr = x_test[c].astype(float).values.reshape(-1, 1)\n",
    "\n",
    "        x_train_arr = scale.fit_transform(x_train_arr)\n",
    "        x_test_arr = scale.transform(x_test_arr)\n",
    "\n",
    "        # https://stackoverflow.com/questions/31468176/setting-values-on-a-copy-of-a-slice-from-a-dataframe\n",
    "        x_train_result = x_train.copy()\n",
    "        x_test_result = x_test.copy()\n",
    "        x_train_result.loc[:, c] = x_train_arr\n",
    "        x_test_result.loc[:, c] = x_test_arr\n",
    "        return x_train_result, x_test_result\n",
    "\n",
    "X_train, X_test = normalizing(X_train, X_test)"
   ],
   "metadata": {
    "collapsed": false,
    "pycharm": {
     "name": "#%%\n"
    }
   }
  },
  {
   "cell_type": "code",
   "execution_count": 155,
   "outputs": [],
   "source": [
    "param_test = {\n",
    "    'n_estimators': [50, 100, 200, 400, 800, 1000],\n",
    "    'colsample_bytree': [0.7, 0.8],\n",
    "    'max_depth': [15, 20, 25],\n",
    "    'num_leaves': [50, 100, 200],\n",
    "    'subsample': [0.7, 0.8, 0.9],\n",
    "    'subsample_freq': [20],\n",
    "    'reg_alpha': [1.1, 1.2, 1.3],\n",
    "    'reg_lambda': [1.1, 1.2, 1.3],\n",
    "    'min_split_gain': [0.3, 0.4],\n",
    "}\n",
    "\n",
    "fit_params = {\n",
    "    \"early_stopping_rounds\": 100,\n",
    "    \"eval_metric\": 'binary_logloss',\n",
    "    \"eval_set\": [(X_test, y_test)],\n",
    "    'eval_names': ['valid'],\n",
    "    'verbose': 100,\n",
    "    'categorical_feature': 'auto'\n",
    "}"
   ],
   "metadata": {
    "collapsed": false,
    "pycharm": {
     "name": "#%%\n"
    }
   }
  },
  {
   "cell_type": "code",
   "execution_count": 156,
   "outputs": [
    {
     "name": "stdout",
     "output_type": "stream",
     "text": [
      "Fitting 3 folds for each of 10 candidates, totalling 30 fits\n"
     ]
    },
    {
     "name": "stderr",
     "output_type": "stream",
     "text": [
      "/Users/damonto/opt/anaconda3/envs/data-science/lib/python3.8/site-packages/sklearn/utils/validation.py:63: DataConversionWarning: A column-vector y was passed when a 1d array was expected. Please change the shape of y to (n_samples, ), for example using ravel().\n",
      "  return f(*args, **kwargs)\n"
     ]
    },
    {
     "name": "stdout",
     "output_type": "stream",
     "text": [
      "Training until validation scores don't improve for 100 rounds\n",
      "[100]\tvalid's binary_logloss: 0.44901\n",
      "Early stopping, best iteration is:\n",
      "[59]\tvalid's binary_logloss: 0.447262\n"
     ]
    },
    {
     "name": "stderr",
     "output_type": "stream",
     "text": [
      "/Users/damonto/opt/anaconda3/envs/data-science/lib/python3.8/site-packages/sklearn/utils/validation.py:63: DataConversionWarning: A column-vector y was passed when a 1d array was expected. Please change the shape of y to (n_samples, ), for example using ravel().\n",
      "  return f(*args, **kwargs)\n"
     ]
    },
    {
     "name": "stdout",
     "output_type": "stream",
     "text": [
      "Training until validation scores don't improve for 100 rounds\n",
      "[100]\tvalid's binary_logloss: 0.458212\n",
      "Early stopping, best iteration is:\n",
      "[64]\tvalid's binary_logloss: 0.455091\n"
     ]
    },
    {
     "name": "stderr",
     "output_type": "stream",
     "text": [
      "/Users/damonto/opt/anaconda3/envs/data-science/lib/python3.8/site-packages/sklearn/utils/validation.py:63: DataConversionWarning: A column-vector y was passed when a 1d array was expected. Please change the shape of y to (n_samples, ), for example using ravel().\n",
      "  return f(*args, **kwargs)\n"
     ]
    },
    {
     "name": "stdout",
     "output_type": "stream",
     "text": [
      "Training until validation scores don't improve for 100 rounds\n",
      "[100]\tvalid's binary_logloss: 0.440613\n",
      "Early stopping, best iteration is:\n",
      "[55]\tvalid's binary_logloss: 0.437292\n"
     ]
    },
    {
     "name": "stderr",
     "output_type": "stream",
     "text": [
      "/Users/damonto/opt/anaconda3/envs/data-science/lib/python3.8/site-packages/sklearn/utils/validation.py:63: DataConversionWarning: A column-vector y was passed when a 1d array was expected. Please change the shape of y to (n_samples, ), for example using ravel().\n",
      "  return f(*args, **kwargs)\n"
     ]
    },
    {
     "name": "stdout",
     "output_type": "stream",
     "text": [
      "Training until validation scores don't improve for 100 rounds\n",
      "[100]\tvalid's binary_logloss: 0.448824\n",
      "Early stopping, best iteration is:\n",
      "[61]\tvalid's binary_logloss: 0.446255\n"
     ]
    },
    {
     "name": "stderr",
     "output_type": "stream",
     "text": [
      "/Users/damonto/opt/anaconda3/envs/data-science/lib/python3.8/site-packages/sklearn/utils/validation.py:63: DataConversionWarning: A column-vector y was passed when a 1d array was expected. Please change the shape of y to (n_samples, ), for example using ravel().\n",
      "  return f(*args, **kwargs)\n"
     ]
    },
    {
     "name": "stdout",
     "output_type": "stream",
     "text": [
      "Training until validation scores don't improve for 100 rounds\n",
      "[100]\tvalid's binary_logloss: 0.467263\n",
      "Early stopping, best iteration is:\n",
      "[62]\tvalid's binary_logloss: 0.461906\n"
     ]
    },
    {
     "name": "stderr",
     "output_type": "stream",
     "text": [
      "/Users/damonto/opt/anaconda3/envs/data-science/lib/python3.8/site-packages/sklearn/utils/validation.py:63: DataConversionWarning: A column-vector y was passed when a 1d array was expected. Please change the shape of y to (n_samples, ), for example using ravel().\n",
      "  return f(*args, **kwargs)\n"
     ]
    },
    {
     "name": "stdout",
     "output_type": "stream",
     "text": [
      "Training until validation scores don't improve for 100 rounds\n",
      "[100]\tvalid's binary_logloss: 0.429307\n",
      "Early stopping, best iteration is:\n",
      "[60]\tvalid's binary_logloss: 0.424833\n"
     ]
    },
    {
     "name": "stderr",
     "output_type": "stream",
     "text": [
      "/Users/damonto/opt/anaconda3/envs/data-science/lib/python3.8/site-packages/sklearn/utils/validation.py:63: DataConversionWarning: A column-vector y was passed when a 1d array was expected. Please change the shape of y to (n_samples, ), for example using ravel().\n",
      "  return f(*args, **kwargs)\n"
     ]
    },
    {
     "name": "stdout",
     "output_type": "stream",
     "text": [
      "Training until validation scores don't improve for 100 rounds\n",
      "Did not meet early stopping. Best iteration is:\n",
      "[50]\tvalid's binary_logloss: 0.449844\n"
     ]
    },
    {
     "name": "stderr",
     "output_type": "stream",
     "text": [
      "/Users/damonto/opt/anaconda3/envs/data-science/lib/python3.8/site-packages/sklearn/utils/validation.py:63: DataConversionWarning: A column-vector y was passed when a 1d array was expected. Please change the shape of y to (n_samples, ), for example using ravel().\n",
      "  return f(*args, **kwargs)\n"
     ]
    },
    {
     "name": "stdout",
     "output_type": "stream",
     "text": [
      "Training until validation scores don't improve for 100 rounds\n",
      "Did not meet early stopping. Best iteration is:\n",
      "[50]\tvalid's binary_logloss: 0.463127\n"
     ]
    },
    {
     "name": "stderr",
     "output_type": "stream",
     "text": [
      "/Users/damonto/opt/anaconda3/envs/data-science/lib/python3.8/site-packages/sklearn/utils/validation.py:63: DataConversionWarning: A column-vector y was passed when a 1d array was expected. Please change the shape of y to (n_samples, ), for example using ravel().\n",
      "  return f(*args, **kwargs)\n"
     ]
    },
    {
     "name": "stdout",
     "output_type": "stream",
     "text": [
      "Training until validation scores don't improve for 100 rounds\n",
      "Did not meet early stopping. Best iteration is:\n",
      "[50]\tvalid's binary_logloss: 0.441926\n"
     ]
    },
    {
     "name": "stderr",
     "output_type": "stream",
     "text": [
      "/Users/damonto/opt/anaconda3/envs/data-science/lib/python3.8/site-packages/sklearn/utils/validation.py:63: DataConversionWarning: A column-vector y was passed when a 1d array was expected. Please change the shape of y to (n_samples, ), for example using ravel().\n",
      "  return f(*args, **kwargs)\n"
     ]
    },
    {
     "name": "stdout",
     "output_type": "stream",
     "text": [
      "Training until validation scores don't improve for 100 rounds\n",
      "[100]\tvalid's binary_logloss: 0.449451\n",
      "Early stopping, best iteration is:\n",
      "[65]\tvalid's binary_logloss: 0.445927\n"
     ]
    },
    {
     "name": "stderr",
     "output_type": "stream",
     "text": [
      "/Users/damonto/opt/anaconda3/envs/data-science/lib/python3.8/site-packages/sklearn/utils/validation.py:63: DataConversionWarning: A column-vector y was passed when a 1d array was expected. Please change the shape of y to (n_samples, ), for example using ravel().\n",
      "  return f(*args, **kwargs)\n"
     ]
    },
    {
     "name": "stdout",
     "output_type": "stream",
     "text": [
      "Training until validation scores don't improve for 100 rounds\n",
      "[100]\tvalid's binary_logloss: 0.463141\n",
      "Early stopping, best iteration is:\n",
      "[56]\tvalid's binary_logloss: 0.459639\n"
     ]
    },
    {
     "name": "stderr",
     "output_type": "stream",
     "text": [
      "/Users/damonto/opt/anaconda3/envs/data-science/lib/python3.8/site-packages/sklearn/utils/validation.py:63: DataConversionWarning: A column-vector y was passed when a 1d array was expected. Please change the shape of y to (n_samples, ), for example using ravel().\n",
      "  return f(*args, **kwargs)\n"
     ]
    },
    {
     "name": "stdout",
     "output_type": "stream",
     "text": [
      "Training until validation scores don't improve for 100 rounds\n",
      "[100]\tvalid's binary_logloss: 0.447529\n",
      "[200]\tvalid's binary_logloss: 0.443511\n",
      "Early stopping, best iteration is:\n",
      "[151]\tvalid's binary_logloss: 0.442552\n"
     ]
    },
    {
     "name": "stderr",
     "output_type": "stream",
     "text": [
      "/Users/damonto/opt/anaconda3/envs/data-science/lib/python3.8/site-packages/sklearn/utils/validation.py:63: DataConversionWarning: A column-vector y was passed when a 1d array was expected. Please change the shape of y to (n_samples, ), for example using ravel().\n",
      "  return f(*args, **kwargs)\n"
     ]
    },
    {
     "name": "stdout",
     "output_type": "stream",
     "text": [
      "Training until validation scores don't improve for 100 rounds\n",
      "[100]\tvalid's binary_logloss: 0.442725\n",
      "Did not meet early stopping. Best iteration is:\n",
      "[62]\tvalid's binary_logloss: 0.440011\n"
     ]
    },
    {
     "name": "stderr",
     "output_type": "stream",
     "text": [
      "/Users/damonto/opt/anaconda3/envs/data-science/lib/python3.8/site-packages/sklearn/utils/validation.py:63: DataConversionWarning: A column-vector y was passed when a 1d array was expected. Please change the shape of y to (n_samples, ), for example using ravel().\n",
      "  return f(*args, **kwargs)\n"
     ]
    },
    {
     "name": "stdout",
     "output_type": "stream",
     "text": [
      "Training until validation scores don't improve for 100 rounds\n",
      "[100]\tvalid's binary_logloss: 0.461038\n",
      "Did not meet early stopping. Best iteration is:\n",
      "[47]\tvalid's binary_logloss: 0.457281\n"
     ]
    },
    {
     "name": "stderr",
     "output_type": "stream",
     "text": [
      "/Users/damonto/opt/anaconda3/envs/data-science/lib/python3.8/site-packages/sklearn/utils/validation.py:63: DataConversionWarning: A column-vector y was passed when a 1d array was expected. Please change the shape of y to (n_samples, ), for example using ravel().\n",
      "  return f(*args, **kwargs)\n"
     ]
    },
    {
     "name": "stdout",
     "output_type": "stream",
     "text": [
      "Training until validation scores don't improve for 100 rounds\n",
      "[100]\tvalid's binary_logloss: 0.440354\n",
      "Did not meet early stopping. Best iteration is:\n",
      "[66]\tvalid's binary_logloss: 0.435377\n"
     ]
    },
    {
     "name": "stderr",
     "output_type": "stream",
     "text": [
      "/Users/damonto/opt/anaconda3/envs/data-science/lib/python3.8/site-packages/sklearn/utils/validation.py:63: DataConversionWarning: A column-vector y was passed when a 1d array was expected. Please change the shape of y to (n_samples, ), for example using ravel().\n",
      "  return f(*args, **kwargs)\n"
     ]
    },
    {
     "name": "stdout",
     "output_type": "stream",
     "text": [
      "Training until validation scores don't improve for 100 rounds\n",
      "Did not meet early stopping. Best iteration is:\n",
      "[50]\tvalid's binary_logloss: 0.444569\n"
     ]
    },
    {
     "name": "stderr",
     "output_type": "stream",
     "text": [
      "/Users/damonto/opt/anaconda3/envs/data-science/lib/python3.8/site-packages/sklearn/utils/validation.py:63: DataConversionWarning: A column-vector y was passed when a 1d array was expected. Please change the shape of y to (n_samples, ), for example using ravel().\n",
      "  return f(*args, **kwargs)\n"
     ]
    },
    {
     "name": "stdout",
     "output_type": "stream",
     "text": [
      "Training until validation scores don't improve for 100 rounds\n",
      "Did not meet early stopping. Best iteration is:\n",
      "[50]\tvalid's binary_logloss: 0.461524\n"
     ]
    },
    {
     "name": "stderr",
     "output_type": "stream",
     "text": [
      "/Users/damonto/opt/anaconda3/envs/data-science/lib/python3.8/site-packages/sklearn/utils/validation.py:63: DataConversionWarning: A column-vector y was passed when a 1d array was expected. Please change the shape of y to (n_samples, ), for example using ravel().\n",
      "  return f(*args, **kwargs)\n"
     ]
    },
    {
     "name": "stdout",
     "output_type": "stream",
     "text": [
      "Training until validation scores don't improve for 100 rounds\n",
      "Did not meet early stopping. Best iteration is:\n",
      "[50]\tvalid's binary_logloss: 0.434551\n"
     ]
    },
    {
     "name": "stderr",
     "output_type": "stream",
     "text": [
      "/Users/damonto/opt/anaconda3/envs/data-science/lib/python3.8/site-packages/sklearn/utils/validation.py:63: DataConversionWarning: A column-vector y was passed when a 1d array was expected. Please change the shape of y to (n_samples, ), for example using ravel().\n",
      "  return f(*args, **kwargs)\n"
     ]
    },
    {
     "name": "stdout",
     "output_type": "stream",
     "text": [
      "Training until validation scores don't improve for 100 rounds\n",
      "[100]\tvalid's binary_logloss: 0.445985\n",
      "Early stopping, best iteration is:\n",
      "[91]\tvalid's binary_logloss: 0.444351\n"
     ]
    },
    {
     "name": "stderr",
     "output_type": "stream",
     "text": [
      "/Users/damonto/opt/anaconda3/envs/data-science/lib/python3.8/site-packages/sklearn/utils/validation.py:63: DataConversionWarning: A column-vector y was passed when a 1d array was expected. Please change the shape of y to (n_samples, ), for example using ravel().\n",
      "  return f(*args, **kwargs)\n"
     ]
    },
    {
     "name": "stdout",
     "output_type": "stream",
     "text": [
      "Training until validation scores don't improve for 100 rounds\n",
      "[100]\tvalid's binary_logloss: 0.474721\n",
      "Early stopping, best iteration is:\n",
      "[59]\tvalid's binary_logloss: 0.460402\n"
     ]
    },
    {
     "name": "stderr",
     "output_type": "stream",
     "text": [
      "/Users/damonto/opt/anaconda3/envs/data-science/lib/python3.8/site-packages/sklearn/utils/validation.py:63: DataConversionWarning: A column-vector y was passed when a 1d array was expected. Please change the shape of y to (n_samples, ), for example using ravel().\n",
      "  return f(*args, **kwargs)\n"
     ]
    },
    {
     "name": "stdout",
     "output_type": "stream",
     "text": [
      "Training until validation scores don't improve for 100 rounds\n",
      "[100]\tvalid's binary_logloss: 0.448021\n",
      "Early stopping, best iteration is:\n",
      "[55]\tvalid's binary_logloss: 0.441512\n"
     ]
    },
    {
     "name": "stderr",
     "output_type": "stream",
     "text": [
      "/Users/damonto/opt/anaconda3/envs/data-science/lib/python3.8/site-packages/sklearn/utils/validation.py:63: DataConversionWarning: A column-vector y was passed when a 1d array was expected. Please change the shape of y to (n_samples, ), for example using ravel().\n",
      "  return f(*args, **kwargs)\n"
     ]
    },
    {
     "name": "stdout",
     "output_type": "stream",
     "text": [
      "Training until validation scores don't improve for 100 rounds\n",
      "Did not meet early stopping. Best iteration is:\n",
      "[50]\tvalid's binary_logloss: 0.454359\n"
     ]
    },
    {
     "name": "stderr",
     "output_type": "stream",
     "text": [
      "/Users/damonto/opt/anaconda3/envs/data-science/lib/python3.8/site-packages/sklearn/utils/validation.py:63: DataConversionWarning: A column-vector y was passed when a 1d array was expected. Please change the shape of y to (n_samples, ), for example using ravel().\n",
      "  return f(*args, **kwargs)\n"
     ]
    },
    {
     "name": "stdout",
     "output_type": "stream",
     "text": [
      "Training until validation scores don't improve for 100 rounds\n",
      "Did not meet early stopping. Best iteration is:\n",
      "[50]\tvalid's binary_logloss: 0.466454\n"
     ]
    },
    {
     "name": "stderr",
     "output_type": "stream",
     "text": [
      "/Users/damonto/opt/anaconda3/envs/data-science/lib/python3.8/site-packages/sklearn/utils/validation.py:63: DataConversionWarning: A column-vector y was passed when a 1d array was expected. Please change the shape of y to (n_samples, ), for example using ravel().\n",
      "  return f(*args, **kwargs)\n"
     ]
    },
    {
     "name": "stdout",
     "output_type": "stream",
     "text": [
      "Training until validation scores don't improve for 100 rounds\n",
      "Did not meet early stopping. Best iteration is:\n",
      "[50]\tvalid's binary_logloss: 0.440951\n"
     ]
    },
    {
     "name": "stderr",
     "output_type": "stream",
     "text": [
      "/Users/damonto/opt/anaconda3/envs/data-science/lib/python3.8/site-packages/sklearn/utils/validation.py:63: DataConversionWarning: A column-vector y was passed when a 1d array was expected. Please change the shape of y to (n_samples, ), for example using ravel().\n",
      "  return f(*args, **kwargs)\n"
     ]
    },
    {
     "name": "stdout",
     "output_type": "stream",
     "text": [
      "Training until validation scores don't improve for 100 rounds\n",
      "[100]\tvalid's binary_logloss: 0.446952\n",
      "Early stopping, best iteration is:\n",
      "[91]\tvalid's binary_logloss: 0.444407\n"
     ]
    },
    {
     "name": "stderr",
     "output_type": "stream",
     "text": [
      "/Users/damonto/opt/anaconda3/envs/data-science/lib/python3.8/site-packages/sklearn/utils/validation.py:63: DataConversionWarning: A column-vector y was passed when a 1d array was expected. Please change the shape of y to (n_samples, ), for example using ravel().\n",
      "  return f(*args, **kwargs)\n"
     ]
    },
    {
     "name": "stdout",
     "output_type": "stream",
     "text": [
      "Training until validation scores don't improve for 100 rounds\n",
      "[100]\tvalid's binary_logloss: 0.47742\n",
      "Early stopping, best iteration is:\n",
      "[59]\tvalid's binary_logloss: 0.463881\n"
     ]
    },
    {
     "name": "stderr",
     "output_type": "stream",
     "text": [
      "/Users/damonto/opt/anaconda3/envs/data-science/lib/python3.8/site-packages/sklearn/utils/validation.py:63: DataConversionWarning: A column-vector y was passed when a 1d array was expected. Please change the shape of y to (n_samples, ), for example using ravel().\n",
      "  return f(*args, **kwargs)\n"
     ]
    },
    {
     "name": "stdout",
     "output_type": "stream",
     "text": [
      "Training until validation scores don't improve for 100 rounds\n",
      "[100]\tvalid's binary_logloss: 0.437142\n",
      "Early stopping, best iteration is:\n",
      "[57]\tvalid's binary_logloss: 0.435266\n"
     ]
    },
    {
     "name": "stderr",
     "output_type": "stream",
     "text": [
      "/Users/damonto/opt/anaconda3/envs/data-science/lib/python3.8/site-packages/sklearn/utils/validation.py:63: DataConversionWarning: A column-vector y was passed when a 1d array was expected. Please change the shape of y to (n_samples, ), for example using ravel().\n",
      "  return f(*args, **kwargs)\n"
     ]
    },
    {
     "name": "stdout",
     "output_type": "stream",
     "text": [
      "Training until validation scores don't improve for 100 rounds\n",
      "[100]\tvalid's binary_logloss: 0.448311\n",
      "Early stopping, best iteration is:\n",
      "[54]\tvalid's binary_logloss: 0.443397\n"
     ]
    },
    {
     "name": "stderr",
     "output_type": "stream",
     "text": [
      "/Users/damonto/opt/anaconda3/envs/data-science/lib/python3.8/site-packages/sklearn/utils/validation.py:63: DataConversionWarning: A column-vector y was passed when a 1d array was expected. Please change the shape of y to (n_samples, ), for example using ravel().\n",
      "  return f(*args, **kwargs)\n"
     ]
    },
    {
     "name": "stdout",
     "output_type": "stream",
     "text": [
      "Training until validation scores don't improve for 100 rounds\n",
      "[100]\tvalid's binary_logloss: 0.47409\n",
      "Early stopping, best iteration is:\n",
      "[49]\tvalid's binary_logloss: 0.465477\n"
     ]
    },
    {
     "name": "stderr",
     "output_type": "stream",
     "text": [
      "/Users/damonto/opt/anaconda3/envs/data-science/lib/python3.8/site-packages/sklearn/utils/validation.py:63: DataConversionWarning: A column-vector y was passed when a 1d array was expected. Please change the shape of y to (n_samples, ), for example using ravel().\n",
      "  return f(*args, **kwargs)\n"
     ]
    },
    {
     "name": "stdout",
     "output_type": "stream",
     "text": [
      "Training until validation scores don't improve for 100 rounds\n",
      "[100]\tvalid's binary_logloss: 0.43038\n",
      "Early stopping, best iteration is:\n",
      "[66]\tvalid's binary_logloss: 0.425746\n"
     ]
    },
    {
     "name": "stderr",
     "output_type": "stream",
     "text": [
      "/Users/damonto/opt/anaconda3/envs/data-science/lib/python3.8/site-packages/sklearn/utils/validation.py:63: DataConversionWarning: A column-vector y was passed when a 1d array was expected. Please change the shape of y to (n_samples, ), for example using ravel().\n",
      "  return f(*args, **kwargs)\n"
     ]
    },
    {
     "name": "stdout",
     "output_type": "stream",
     "text": [
      "Training until validation scores don't improve for 100 rounds\n",
      "[100]\tvalid's binary_logloss: 0.427416\n",
      "Early stopping, best iteration is:\n",
      "[58]\tvalid's binary_logloss: 0.423794\n",
      "Best score reached: -0.4809682482188244 with params: {'subsample_freq': 20, 'subsample': 0.9, 'reg_lambda': 1.2, 'reg_alpha': 1.1, 'num_leaves': 200, 'n_estimators': 800, 'min_split_gain': 0.4, 'max_depth': 15, 'colsample_bytree': 0.8}\n"
     ]
    }
   ],
   "source": [
    "clf = LGBMClassifier(random_state=314, silent=True, n_jobs=2)\n",
    "model = RandomizedSearchCV(clf, param_distributions=param_test, scoring='neg_log_loss',\n",
    "                           cv=3, refit=True, random_state=314, verbose=True)\n",
    "model.fit(X_train, y_train, **fit_params)\n",
    "print(\"Best score reached: {} with params: {}\".format(model.best_score_, model.best_params_))"
   ],
   "metadata": {
    "collapsed": false,
    "pycharm": {
     "name": "#%%\n"
    }
   }
  },
  {
   "cell_type": "code",
   "execution_count": 157,
   "outputs": [
    {
     "name": "stderr",
     "output_type": "stream",
     "text": [
      "/Users/damonto/opt/anaconda3/envs/data-science/lib/python3.8/site-packages/sklearn/utils/validation.py:63: DataConversionWarning: A column-vector y was passed when a 1d array was expected. Please change the shape of y to (n_samples, ), for example using ravel().\n",
      "  return f(*args, **kwargs)\n"
     ]
    },
    {
     "name": "stdout",
     "output_type": "stream",
     "text": [
      "Log loss Probability:  0.4293106726609966\n"
     ]
    }
   ],
   "source": [
    "# param = {\n",
    "#     'subsample_freq': 20, 'subsample': 0.9, 'reg_lambda': 1.2, 'reg_alpha': 1.1, 'num_leaves': 200, 'n_estimators': 800,\n",
    "#     'min_split_gain': 0.4, 'max_depth': 15, 'colsample_bytree': 0.8\n",
    "# }\n",
    "model = LGBMClassifier(random_state=314, silent=True, n_jobs=2, subsample_freq=20, subsample=0.9,\n",
    "                       reg_lambda=1.2, reg_alpha=1.1, num_leaves=200, n_estimators=800,\n",
    "                       min_split_gain=0.4, max_depth=15, colsample_bytree=0.8)\n",
    "model.fit(X_train, y_train)\n",
    "pred = model.predict_proba(X_test)\n",
    "print(\"Log loss Probability: \", log_loss(y_test, pred))"
   ],
   "metadata": {
    "collapsed": false,
    "pycharm": {
     "name": "#%%\n"
    }
   }
  },
  {
   "cell_type": "code",
   "execution_count": 158,
   "outputs": [
    {
     "data": {
      "text/plain": "<AxesSubplot:xlabel='Predicted', ylabel='Actual'>"
     },
     "execution_count": 158,
     "metadata": {},
     "output_type": "execute_result"
    },
    {
     "data": {
      "text/plain": "<Figure size 432x288 with 2 Axes>",
      "image/png": "[encoded data removed]"
     },
     "metadata": {
      "needs_background": "light"
     },
     "output_type": "display_data"
    }
   ],
   "source": [
    "pred = model.predict(X_test)\n",
    "y_test = y_test.flatten()\n",
    "\n",
    "data = {\n",
    "    'y_Actual': y_test,\n",
    "    'y_Predicted': pred\n",
    "}\n",
    "\n",
    "df = pd.DataFrame(data, columns=['y_Actual', 'y_Predicted'])\n",
    "confusion_matrix = pd.crosstab(df['y_Actual'], df['y_Predicted'], rownames=['Actual'], colnames=['Predicted'])\n",
    "sns.heatmap(confusion_matrix, annot=True)"
   ],
   "metadata": {
    "collapsed": false,
    "pycharm": {
     "name": "#%%\n"
    }
   }
  },
  {
   "cell_type": "code",
   "execution_count": 161,
   "outputs": [],
   "source": [
    "train = pd.read_csv(train_data_path)\n",
    "X_train = train.drop(columns='Activity')\n",
    "y_train = train['Activity']\n",
    "\n",
    "X_test = pd.read_csv(test_data_path)\n",
    "\n",
    "X_train, X_test = normalizing(X_train, X_test)\n",
    "\n",
    "model = LGBMClassifier(random_state=314, silent=True, n_jobs=2, subsample_freq=20, subsample=0.9,\n",
    "                       reg_lambda=1.2, reg_alpha=1.1, num_leaves=200, n_estimators=800,\n",
    "                       min_split_gain=0.4, max_depth=15, colsample_bytree=0.8)\n",
    "model.fit(X_train, y_train)\n",
    "\n",
    "Probability = model.predict_proba(X_test)[:,1]\n",
    "MoleculeId = np.array(range(1, len(X_test) + 1))\n",
    "\n",
    "submission = pd.DataFrame()\n",
    "submission['MoleculeId'] = MoleculeId\n",
    "submission['PredictedProbability'] = Probability\n",
    "\n",
    "submission.to_csv('submission.csv', index=None)"
   ],
   "metadata": {
    "collapsed": false,
    "pycharm": {
     "name": "#%%\n"
    }
   }
  }
 ],
 "metadata": {
  "kernelspec": {
   "name": "python3",
   "language": "python",
   "display_name": "Python 3"
  },
  "language_info": {
   "codemirror_mode": {
    "name": "ipython",
    "version": 2
   },
   "file_extension": ".py",
   "mimetype": "text/x-python",
   "name": "python",
   "nbconvert_exporter": "python",
   "pygments_lexer": "ipython2",
   "version": "2.7.6"
  }
 },
 "nbformat": 4,
 "nbformat_minor": 0
}